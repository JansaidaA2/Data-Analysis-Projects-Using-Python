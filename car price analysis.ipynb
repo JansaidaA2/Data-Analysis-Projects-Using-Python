{
 "cells": [
  {
   "cell_type": "code",
   "execution_count": 1,
   "id": "402ae3ba-8471-4e2d-b462-7ebc836820fb",
   "metadata": {},
   "outputs": [],
   "source": [
    "import numpy as np\n",
    "import pandas as pd\n",
    "import matplotlib.pyplot as plt\n",
    "import seaborn as sns\n",
    "%matplotlib inline"
   ]
  },
  {
   "cell_type": "code",
   "execution_count": 2,
   "id": "b3e6af80-7948-4534-9b44-2c69c2afc6c8",
   "metadata": {},
   "outputs": [],
   "source": [
    "cars=pd.read_excel(r\"C:\\Users\\Jan Saida\\OneDrive\\Documents\\Copy of 1.Categorical-variables.Visualization-techniques-lesson.xlsx\")"
   ]
  },
  {
   "cell_type": "code",
   "execution_count": 3,
   "id": "f13d4253-bc96-44e9-9731-6511b8d69423",
   "metadata": {},
   "outputs": [
    {
     "data": {
      "text/html": [
       "<div>\n",
       "<style scoped>\n",
       "    .dataframe tbody tr th:only-of-type {\n",
       "        vertical-align: middle;\n",
       "    }\n",
       "\n",
       "    .dataframe tbody tr th {\n",
       "        vertical-align: top;\n",
       "    }\n",
       "\n",
       "    .dataframe thead th {\n",
       "        text-align: right;\n",
       "    }\n",
       "</style>\n",
       "<table border=\"1\" class=\"dataframe\">\n",
       "  <thead>\n",
       "    <tr style=\"text-align: right;\">\n",
       "      <th></th>\n",
       "      <th>Unnamed: 0</th>\n",
       "      <th>Graphs and tables for categorical variables</th>\n",
       "      <th>Unnamed: 2</th>\n",
       "    </tr>\n",
       "  </thead>\n",
       "  <tbody>\n",
       "    <tr>\n",
       "      <th>0</th>\n",
       "      <td>NaN</td>\n",
       "      <td>German car shop</td>\n",
       "      <td>NaN</td>\n",
       "    </tr>\n",
       "    <tr>\n",
       "      <th>1</th>\n",
       "      <td>NaN</td>\n",
       "      <td>NaN</td>\n",
       "      <td>NaN</td>\n",
       "    </tr>\n",
       "    <tr>\n",
       "      <th>2</th>\n",
       "      <td>NaN</td>\n",
       "      <td>NaN</td>\n",
       "      <td>Frequency</td>\n",
       "    </tr>\n",
       "    <tr>\n",
       "      <th>3</th>\n",
       "      <td>NaN</td>\n",
       "      <td>Audi</td>\n",
       "      <td>124</td>\n",
       "    </tr>\n",
       "    <tr>\n",
       "      <th>4</th>\n",
       "      <td>NaN</td>\n",
       "      <td>BMW</td>\n",
       "      <td>98</td>\n",
       "    </tr>\n",
       "    <tr>\n",
       "      <th>5</th>\n",
       "      <td>NaN</td>\n",
       "      <td>Mercedes</td>\n",
       "      <td>113</td>\n",
       "    </tr>\n",
       "    <tr>\n",
       "      <th>6</th>\n",
       "      <td>NaN</td>\n",
       "      <td>Total</td>\n",
       "      <td>335</td>\n",
       "    </tr>\n",
       "  </tbody>\n",
       "</table>\n",
       "</div>"
      ],
      "text/plain": [
       "   Unnamed: 0 Graphs and tables for categorical variables Unnamed: 2\n",
       "0         NaN                             German car shop        NaN\n",
       "1         NaN                                         NaN        NaN\n",
       "2         NaN                                         NaN  Frequency\n",
       "3         NaN                                        Audi        124\n",
       "4         NaN                                         BMW         98\n",
       "5         NaN                                    Mercedes        113\n",
       "6         NaN                                       Total        335"
      ]
     },
     "execution_count": 3,
     "metadata": {},
     "output_type": "execute_result"
    }
   ],
   "source": [
    "cars"
   ]
  },
  {
   "cell_type": "code",
   "execution_count": 4,
   "id": "2ae52e0e-a12a-453e-8429-97f8b3d4d1b7",
   "metadata": {},
   "outputs": [
    {
     "data": {
      "text/plain": [
       "Unnamed: 0                                     7\n",
       "Graphs and tables for categorical variables    2\n",
       "Unnamed: 2                                     2\n",
       "dtype: int64"
      ]
     },
     "execution_count": 4,
     "metadata": {},
     "output_type": "execute_result"
    }
   ],
   "source": [
    "cars.isnull().sum()"
   ]
  },
  {
   "cell_type": "code",
   "execution_count": 5,
   "id": "314c4a70-a2e6-4b80-968a-5fdd44680221",
   "metadata": {},
   "outputs": [],
   "source": [
    "data={'Audi':124,'BMW':98,'Mercedes':113}"
   ]
  },
  {
   "cell_type": "code",
   "execution_count": 6,
   "id": "4bc7142f-852c-4c0e-8edf-5fd223ca08eb",
   "metadata": {},
   "outputs": [
    {
     "data": {
      "text/plain": [
       "{'Audi': 124, 'BMW': 98, 'Mercedes': 113}"
      ]
     },
     "execution_count": 6,
     "metadata": {},
     "output_type": "execute_result"
    }
   ],
   "source": [
    "data"
   ]
  },
  {
   "cell_type": "code",
   "execution_count": 7,
   "id": "b013a3d5-dcc7-4155-ba7c-5b3a671988d6",
   "metadata": {},
   "outputs": [],
   "source": [
    "import warnings\n",
    "warnings.filterwarnings('ignore')"
   ]
  },
  {
   "cell_type": "code",
   "execution_count": 8,
   "id": "a2eb26f1-e5e4-416f-a4bf-451e7df360a2",
   "metadata": {},
   "outputs": [],
   "source": [
    "cars.car_brands=['Audi','BMW','Mercedes']"
   ]
  },
  {
   "cell_type": "code",
   "execution_count": 9,
   "id": "dc5c2da2-552a-4279-a3bf-62dd271f4bbb",
   "metadata": {},
   "outputs": [],
   "source": [
    "cars.car_quantity=[124,98,113]"
   ]
  },
  {
   "cell_type": "code",
   "execution_count": 10,
   "id": "7347e916-afc9-4522-989f-514b70dfe259",
   "metadata": {},
   "outputs": [
    {
     "data": {
      "text/plain": [
       "Text(0.5, 1.0, 'car shop')"
      ]
     },
     "execution_count": 10,
     "metadata": {},
     "output_type": "execute_result"
    },
    {
     "data": {
      "image/png": "[encoded data removed]",
      "text/plain": [
       "<Figure size 640x480 with 1 Axes>"
      ]
     },
     "metadata": {},
     "output_type": "display_data"
    }
   ],
   "source": [
    "sns.barplot(data,color='green')\n",
    "plt.xlabel('car_brands')\n",
    "plt.ylabel('car_quantity')\n",
    "plt.title('car shop')"
   ]
  },
  {
   "cell_type": "code",
   "execution_count": 11,
   "id": "f5de8cbd-6107-4611-9435-aed4bc206fbe",
   "metadata": {},
   "outputs": [
    {
     "data": {
      "text/plain": [
       "{'car_brands': ['Audi', 'BMW', 'Mercedes'], 'car_quantity': [124, 98, 113]}"
      ]
     },
     "execution_count": 11,
     "metadata": {},
     "output_type": "execute_result"
    }
   ],
   "source": [
    "data={'car_brands':['Audi','BMW','Mercedes'],'car_quantity':[124,98,113]}\n",
    "data"
   ]
  },
  {
   "cell_type": "code",
   "execution_count": 12,
   "id": "4a9a6885-32e2-4585-9798-ff866f1f235c",
   "metadata": {},
   "outputs": [],
   "source": [
    "shop=pd.DataFrame(data)"
   ]
  },
  {
   "cell_type": "code",
   "execution_count": 13,
   "id": "f62038e4-bc51-48b9-ba62-f4fe3ef07c36",
   "metadata": {},
   "outputs": [
    {
     "data": {
      "text/html": [
       "<div>\n",
       "<style scoped>\n",
       "    .dataframe tbody tr th:only-of-type {\n",
       "        vertical-align: middle;\n",
       "    }\n",
       "\n",
       "    .dataframe tbody tr th {\n",
       "        vertical-align: top;\n",
       "    }\n",
       "\n",
       "    .dataframe thead th {\n",
       "        text-align: right;\n",
       "    }\n",
       "</style>\n",
       "<table border=\"1\" class=\"dataframe\">\n",
       "  <thead>\n",
       "    <tr style=\"text-align: right;\">\n",
       "      <th></th>\n",
       "      <th>car_brands</th>\n",
       "      <th>car_quantity</th>\n",
       "    </tr>\n",
       "  </thead>\n",
       "  <tbody>\n",
       "    <tr>\n",
       "      <th>0</th>\n",
       "      <td>Audi</td>\n",
       "      <td>124</td>\n",
       "    </tr>\n",
       "    <tr>\n",
       "      <th>1</th>\n",
       "      <td>BMW</td>\n",
       "      <td>98</td>\n",
       "    </tr>\n",
       "    <tr>\n",
       "      <th>2</th>\n",
       "      <td>Mercedes</td>\n",
       "      <td>113</td>\n",
       "    </tr>\n",
       "  </tbody>\n",
       "</table>\n",
       "</div>"
      ],
      "text/plain": [
       "  car_brands  car_quantity\n",
       "0       Audi           124\n",
       "1        BMW            98\n",
       "2   Mercedes           113"
      ]
     },
     "execution_count": 13,
     "metadata": {},
     "output_type": "execute_result"
    }
   ],
   "source": [
    "shop"
   ]
  },
  {
   "cell_type": "code",
   "execution_count": 14,
   "id": "a0e046dc-e033-4cc2-a219-12c13b2f6df5",
   "metadata": {},
   "outputs": [
    {
     "data": {
      "text/plain": [
       "([<matplotlib.patches.Wedge at 0x141684df8c0>,\n",
       "  <matplotlib.patches.Wedge at 0x141681f6300>,\n",
       "  <matplotlib.patches.Wedge at 0x141681f47d0>],\n",
       " [Text(0.4363892652732461, 1.0097348212051898, 'Audi'),\n",
       "  Text(-1.0941524656294324, -0.1132712759574722, 'BMW'),\n",
       "  Text(0.5380457655904913, -0.9594304321471891, 'Mercedes')],\n",
       " [Text(0.23803050833086148, 0.5507644479301035, '37.0%'),\n",
       "  Text(-0.5968104357978722, -0.061784332340439375, '29.3%'),\n",
       "  Text(0.2934795085039043, -0.5233256902621032, '33.7%')])"
      ]
     },
     "execution_count": 14,
     "metadata": {},
     "output_type": "execute_result"
    },
    {
     "data": {
      "image/png": "[encoded data removed]",
      "text/plain": [
       "<Figure size 640x480 with 1 Axes>"
      ]
     },
     "metadata": {},
     "output_type": "display_data"
    }
   ],
   "source": [
    "plt.pie(shop['car_quantity'],labels=shop['car_brands'],autopct='%1.1f%%')"
   ]
  },
  {
   "cell_type": "code",
   "execution_count": null,
   "id": "622d2a07-b04c-4333-bef9-0e7c244e9eb4",
   "metadata": {},
   "outputs": [],
   "source": []
  }
 ],
 "metadata": {
  "kernelspec": {
   "display_name": "Python 3 (ipykernel)",
   "language": "python",
   "name": "python3"
  },
  "language_info": {
   "codemirror_mode": {
    "name": "ipython",
    "version": 3
   },
   "file_extension": ".py",
   "mimetype": "text/x-python",
   "name": "python",
   "nbconvert_exporter": "python",
   "pygments_lexer": "ipython3",
   "version": "3.12.4"
  }
 },
 "nbformat": 4,
 "nbformat_minor": 5
}
